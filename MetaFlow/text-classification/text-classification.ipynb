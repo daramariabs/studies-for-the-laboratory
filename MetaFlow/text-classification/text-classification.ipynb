{
 "cells": [
  {
   "cell_type": "code",
   "execution_count": 1,
   "id": "825d6e99",
   "metadata": {},
   "outputs": [],
   "source": [
    "import pandas as pd\n",
    "from sklearn.feature_extraction.text import TfidfVectorizer, CountVectorizer\n",
    "from sklearn.naive_bayes import MultinomialNB\n",
    "from sklearn.linear_model import SGDClassifier\n",
    "from sklearn.pipeline import make_pipeline, Pipeline\n",
    "from sklearn.metrics import f1_score\n",
    "from sklearn.model_selection import GridSearchCV"
   ]
  },
  {
   "cell_type": "code",
   "execution_count": 2,
   "id": "ee8a5373",
   "metadata": {},
   "outputs": [],
   "source": [
    "#Carregando os dados\n",
    "train = pd.read_csv('./data/train_small.csv')\n",
    "test = pd.read_csv('./data/test_small.csv')\n"
   ]
  },
  {
   "cell_type": "code",
   "execution_count": 3,
   "id": "554c70f0",
   "metadata": {},
   "outputs": [
    {
     "data": {
      "text/html": [
       "<div>\n",
       "<style scoped>\n",
       "    .dataframe tbody tr th:only-of-type {\n",
       "        vertical-align: middle;\n",
       "    }\n",
       "\n",
       "    .dataframe tbody tr th {\n",
       "        vertical-align: top;\n",
       "    }\n",
       "\n",
       "    .dataframe thead th {\n",
       "        text-align: right;\n",
       "    }\n",
       "</style>\n",
       "<table border=\"1\" class=\"dataframe\">\n",
       "  <thead>\n",
       "    <tr style=\"text-align: right;\">\n",
       "      <th></th>\n",
       "      <th>themes</th>\n",
       "      <th>process_id</th>\n",
       "      <th>file_name</th>\n",
       "      <th>document_type</th>\n",
       "      <th>pages</th>\n",
       "      <th>body</th>\n",
       "    </tr>\n",
       "  </thead>\n",
       "  <tbody>\n",
       "    <tr>\n",
       "      <th>0</th>\n",
       "      <td>[232]</td>\n",
       "      <td>AI_856934</td>\n",
       "      <td>AI_856934_1926210_1060_17072013.pdf</td>\n",
       "      <td>outros</td>\n",
       "      <td>1</td>\n",
       "      <td>{\"tribunal justiça estado bahia poder judiciár...</td>\n",
       "    </tr>\n",
       "    <tr>\n",
       "      <th>1</th>\n",
       "      <td>[232]</td>\n",
       "      <td>AI_856934</td>\n",
       "      <td>AI_856934_1926211_34_17072013.pdf</td>\n",
       "      <td>outros</td>\n",
       "      <td>1</td>\n",
       "      <td>{\"excelentíssimo senhor doutor juiz direito ju...</td>\n",
       "    </tr>\n",
       "    <tr>\n",
       "      <th>2</th>\n",
       "      <td>[232]</td>\n",
       "      <td>AI_856934</td>\n",
       "      <td>AI_856934_1926211_34_17072013.pdf</td>\n",
       "      <td>outros</td>\n",
       "      <td>2</td>\n",
       "      <td>{\"razões recurso inominado recorrente atlantic...</td>\n",
       "    </tr>\n",
       "    <tr>\n",
       "      <th>3</th>\n",
       "      <td>[232]</td>\n",
       "      <td>AI_856934</td>\n",
       "      <td>AI_856934_1926211_34_17072013.pdf</td>\n",
       "      <td>outros</td>\n",
       "      <td>3</td>\n",
       "      <td>{\"empresa recorrente tornou credora dos débito...</td>\n",
       "    </tr>\n",
       "    <tr>\n",
       "      <th>4</th>\n",
       "      <td>[232]</td>\n",
       "      <td>AI_856934</td>\n",
       "      <td>AI_856934_1926211_34_17072013.pdf</td>\n",
       "      <td>outros</td>\n",
       "      <td>4</td>\n",
       "      <td>{\"entretanto verdade parte apelante tornou tit...</td>\n",
       "    </tr>\n",
       "  </tbody>\n",
       "</table>\n",
       "</div>"
      ],
      "text/plain": [
       "  themes process_id                            file_name document_type  pages  \\\n",
       "0  [232]  AI_856934  AI_856934_1926210_1060_17072013.pdf        outros      1   \n",
       "1  [232]  AI_856934    AI_856934_1926211_34_17072013.pdf        outros      1   \n",
       "2  [232]  AI_856934    AI_856934_1926211_34_17072013.pdf        outros      2   \n",
       "3  [232]  AI_856934    AI_856934_1926211_34_17072013.pdf        outros      3   \n",
       "4  [232]  AI_856934    AI_856934_1926211_34_17072013.pdf        outros      4   \n",
       "\n",
       "                                                body  \n",
       "0  {\"tribunal justiça estado bahia poder judiciár...  \n",
       "1  {\"excelentíssimo senhor doutor juiz direito ju...  \n",
       "2  {\"razões recurso inominado recorrente atlantic...  \n",
       "3  {\"empresa recorrente tornou credora dos débito...  \n",
       "4  {\"entretanto verdade parte apelante tornou tit...  "
      ]
     },
     "execution_count": 3,
     "metadata": {},
     "output_type": "execute_result"
    }
   ],
   "source": [
    "#Vizualizando os dados\n",
    "train.head()"
   ]
  },
  {
   "cell_type": "code",
   "execution_count": 4,
   "id": "5ba548c6",
   "metadata": {},
   "outputs": [],
   "source": [
    "#Particionando os dados\n",
    "x_train = train['body']\n",
    "y_train = train['document_type']\n",
    "\n",
    "x_test = test['body']\n",
    "y_test = test['document_type']\n",
    "\n",
    "scoring = {\n",
    "    'f1_micro',\n",
    "    'f1_macro',\n",
    "    'f1_weighted'\n",
    "}"
   ]
  },
  {
   "cell_type": "markdown",
   "id": "7d2bfc82",
   "metadata": {},
   "source": [
    "# TfidfVectorizer + MultinomialNB"
   ]
  },
  {
   "cell_type": "code",
   "execution_count": null,
   "id": "6a6a78ff",
   "metadata": {},
   "outputs": [
    {
     "name": "stdout",
     "output_type": "stream",
     "text": [
      "Fitting 5 folds for each of 9 candidates, totalling 45 fits\n"
     ]
    }
   ],
   "source": [
    "pipeline = Pipeline([\n",
    "    ('vect', TfidfVectorizer()),\n",
    "    ('clf', MultinomialNB())\n",
    "])\n",
    "\n",
    "parameters = {\n",
    "    'vect__min_df': [1, 2, 3],\n",
    "    'vect__smooth_idf': [True],\n",
    "    'vect__ngram_range': [(1, 1), (1, 2), (1, 3)]\n",
    "}\n",
    "\n",
    "grid_search = GridSearchCV(estimator=pipeline, param_grid=parameters, n_jobs=-1, verbose=1, scoring=scoring, refit='f1_micro')\n",
    "grid_search.fit(x_train, y_train)\n",
    "\n",
    "print(\"Best parameters:\")\n",
    "print(grid_search.best_params_)\n",
    "\n",
    "print(\"Best scorers: \")\n",
    "print(grid_search.best_score_)\n",
    "\n",
    "tfidf_naive = grid_search.best_estimator_"
   ]
  },
  {
   "cell_type": "code",
   "execution_count": null,
   "id": "8734b8e6",
   "metadata": {},
   "outputs": [],
   "source": [
    "#Previsão\n",
    "print('F1-Score (micro) Test: ', f1_score(y_test, tfidf_naive.predict(x_test), average='micro'))"
   ]
  },
  {
   "cell_type": "markdown",
   "id": "6f74f425",
   "metadata": {},
   "source": [
    "# TfidfVectorizer + SDGClassifier"
   ]
  },
  {
   "cell_type": "code",
   "execution_count": null,
   "id": "8eb8e1d8",
   "metadata": {},
   "outputs": [],
   "source": [
    "pipeline = Pipeline([\n",
    "    ('vect', TfidfVectorizer()),\n",
    "    ('clf',  SGDClassifier())\n",
    "])\n",
    "\n",
    "parameters = {\n",
    "    'vect__min_df': [1, 2, 3],\n",
    "    'vect__smooth_idf': [True],\n",
    "    'vect__ngram_range': [(1, 1), (1, 2), (1, 3)]\n",
    "}\n",
    "\n",
    "\n",
    "grid_search = GridSearchCV(estimator=pipeline, param_grid=parameters, n_jobs=-1, verbose=10, scoring=scoring, refit='f1_micro')\n",
    "grid_search.fit(x_train, y_train)\n",
    "print(\"Best parameters:\")\n",
    "print(grid_search.best_params_)\n",
    "print(\"Best scorers: \")\n",
    "print(grid_search.best_score_)\n",
    "tfidf_sdg = grid_search.best_estimator_\n"
   ]
  },
  {
   "cell_type": "code",
   "execution_count": null,
   "id": "9ac581a8",
   "metadata": {},
   "outputs": [],
   "source": [
    "print('F1-Score (micro) Test: ', f1_score(y_test, tfidf_sdg.predict(x_test), average='micro')) # 0.93 - antes 0.90"
   ]
  },
  {
   "cell_type": "markdown",
   "id": "d23e9bbb",
   "metadata": {},
   "source": [
    "# CountVectorizer + SDGClassifier"
   ]
  },
  {
   "cell_type": "code",
   "execution_count": null,
   "id": "6d34f9c5",
   "metadata": {},
   "outputs": [],
   "source": [
    "pipeline = Pipeline([\n",
    "    ('vect', CountVectorizer()),\n",
    "    ('clf', SGDClassifier())\n",
    "])\n",
    "\n",
    "parameters = {\n",
    "    'vect__min_df': [1, 2, 3],\n",
    "    'vect__ngram_range': [(1, 1), (1, 2), (1, 3)],\n",
    "    'vect__max_df': [0.5, 0.75, 1.0]\n",
    "}\n",
    "\n",
    "grid_search = GridSearchCV(estimator=pipeline, param_grid=parameters, n_jobs=-1, verbose=10, scoring=scoring, refit='f1_micro')\n",
    "grid_search.fit(x_train, y_train)\n",
    "\n",
    "print(\"Best parameters:\")\n",
    "print(grid_search.best_params_)\n",
    "\n",
    "print(\"Best scorers: \")\n",
    "print(grid_search.best_score_)\n",
    "\n",
    "countv_sdg = grid_search.best_estimator_"
   ]
  },
  {
   "cell_type": "code",
   "execution_count": null,
   "id": "618ca4ac",
   "metadata": {},
   "outputs": [],
   "source": [
    "print('F1-Score (micro) Test: ', f1_score(y_test, countv_sdg.predict(x_test), average='micro'))"
   ]
  },
  {
   "cell_type": "code",
   "execution_count": null,
   "id": "5a46e5c8",
   "metadata": {},
   "outputs": [],
   "source": []
  }
 ],
 "metadata": {
  "kernelspec": {
   "display_name": "Python 3 (ipykernel)",
   "language": "python",
   "name": "python3"
  },
  "language_info": {
   "codemirror_mode": {
    "name": "ipython",
    "version": 3
   },
   "file_extension": ".py",
   "mimetype": "text/x-python",
   "name": "python",
   "nbconvert_exporter": "python",
   "pygments_lexer": "ipython3",
   "version": "3.9.12"
  }
 },
 "nbformat": 4,
 "nbformat_minor": 5
}

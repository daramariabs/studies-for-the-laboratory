{
 "cells": [
  {
   "cell_type": "markdown",
   "metadata": {},
   "source": [
    "# Transform_amendments\n",
    "\n",
    "A partir da função _transform_legislations o texto será retornado com os tokens de emendas criados.\n",
    "\n",
    "Essa função padroniza as emendas encontrados no texto, de forma que:\n",
    "\n",
    "- emenda constitucional número 156 seja substituida por ST_EMENDA_156\n",
    "- emendas regimentais nº.111 seja substituida por ST_EMENDA_111"
   ]
  },
  {
   "cell_type": "code",
   "execution_count": 1,
   "metadata": {},
   "outputs": [],
   "source": [
    "import re\n",
    "\n",
    "ST_PREFIX = \"ST_\"\n",
    "\n",
    "def _transform_legislations(\n",
    "    text,\n",
    "    prefix_result,\n",
    "    re_legislation,\n",
    "    is_multiple=False,\n",
    "    identification=None,\n",
    "    previous_token=None,\n",
    "    separator=None,\n",
    "):\n",
    "    \"Create custom tokens for legislation\"\n",
    "\n",
    "    def build_token(m):\n",
    "        if m.group(\"ignored_expression\"):\n",
    "            result = m.group(\"ignored_expression\")\n",
    "        else:\n",
    "            result = \"\"\n",
    "        result = (\n",
    "            result\n",
    "            + ST_PREFIX\n",
    "            + prefix_result\n",
    "            + m.group(\"identification\")\n",
    "            .replace('\"', \"\")\n",
    "            .replace(\"“\", \"\")\n",
    "            .replace(\"”\", \"\")\n",
    "            .replace(\".\", \"\")\n",
    "            .replace(\",\", \"\")\n",
    "            .replace(\"º\", \"\")\n",
    "            .lstrip(\"0\")\n",
    "            .upper()\n",
    "        )\n",
    "        return result\n",
    "\n",
    "    def build_token_multi(m):\n",
    "        result = (\n",
    "            m.group(\"ignored_expression\")\n",
    "            + ST_PREFIX\n",
    "            + prefix_result\n",
    "            + m.group(\"identification\")\n",
    "            .replace('\"', \"\")\n",
    "            .replace(\"“\", \"\")\n",
    "            .replace(\"”\", \"\")\n",
    "            .replace(\".\", \"\")\n",
    "            .replace(\",\", \"\")\n",
    "            .replace(\"º\", \"\")\n",
    "            .lstrip(\"0\")\n",
    "            .upper()\n",
    "        )\n",
    "        return result\n",
    "\n",
    "    # replaces first occurrences\n",
    "    text = re_legislation.sub(build_token, text)\n",
    "\n",
    "    # replaces multiple occurrences, if exists\n",
    "    if is_multiple:\n",
    "        regex_legislation_multi = re.compile(\n",
    "            fr\"(?:(?P<ignored_expression>{previous_token}{separator}){identification})\",\n",
    "            flags=re.I,\n",
    "        )\n",
    "        while regex_legislation_multi.findall(text) != []:\n",
    "            text = regex_legislation_multi.sub(build_token_multi, text)\n",
    "\n",
    "    return text\n"
   ]
  },
  {
   "cell_type": "code",
   "execution_count": 2,
   "metadata": {},
   "outputs": [],
   "source": [
    "def transform_amendments(text, **kwargs):\n",
    "    #Create custom tokens for amendments appearances in a text\n",
    "\n",
    "    amendment_types = (\"constituciona(?:l|is)\", \"regimenta(?:l|is)\")\n",
    "    amendment_types = \"|\".join(amendment_types)\n",
    "\n",
    "    word_number = r\"(?:n[oº]?\\.?|n\\.?º|n[úu]mero)\"\n",
    "    number = r\"(?:\\d+(?:[\\.,]\\d+)*)\"\n",
    "    year = fr\"(?:[/-]{number})?\"\n",
    "    prefix_result = \"EMENDA_\"\n",
    "    previous_token = fr\"{ST_PREFIX}{prefix_result}{number}\"\n",
    "    separator = r\"\\s*[,e]\\s+\"\n",
    "    amendment = fr\"(?P<identification>{number}){year}\"\n",
    "    re_legislation = re.compile(\n",
    "        fr\"(?P<ignored_expression>)(emendas?(\\s+({amendment_types}))?)\\s+(?:{word_number}\\s*)?{amendment}\",\n",
    "        flags=re.I,\n",
    "    )\n",
    "\n",
    "    return _transform_legislations(\n",
    "        text,\n",
    "        prefix_result,\n",
    "        re_legislation,\n",
    "        True,\n",
    "        amendment,\n",
    "        previous_token,\n",
    "        separator,\n",
    "    )\n"
   ]
  },
  {
   "cell_type": "code",
   "execution_count": 3,
   "metadata": {},
   "outputs": [
    {
     "name": "stdout",
     "output_type": "stream",
     "text": [
      "Entrada:  \n",
      "  Emenda Constitucional nº 45/2004\n",
      "  Emendas Regimentais nº 3/2018 e 7/2019\n",
      "\n"
     ]
    }
   ],
   "source": [
    "entradas = \"\"\"\n",
    "  Emenda Constitucional nº 45/2004\n",
    "  Emendas Regimentais nº 3/2018 e 7/2019\n",
    "\"\"\"\n",
    "\n",
    "print(\"Entrada: \", entradas)"
   ]
  },
  {
   "cell_type": "code",
   "execution_count": 4,
   "metadata": {},
   "outputs": [
    {
     "name": "stdout",
     "output_type": "stream",
     "text": [
      "Saida:  \n",
      "  ST_EMENDA_45\n",
      "  ST_EMENDA_3 e ST_EMENDA_7\n",
      "\n"
     ]
    }
   ],
   "source": [
    "print(\"Saida: \", transform_amendments(entradas))"
   ]
  },
  {
   "cell_type": "markdown",
   "metadata": {},
   "source": [
    "# DATASET VICTOR"
   ]
  },
  {
   "cell_type": "code",
   "execution_count": 5,
   "metadata": {},
   "outputs": [],
   "source": [
    "import pandas as pd\n",
    "\n",
    "test = pd.read_csv('./data/train_small.csv')\n",
    "text = test['body']"
   ]
  },
  {
   "cell_type": "code",
   "execution_count": 7,
   "metadata": {},
   "outputs": [
    {
     "name": "stdout",
     "output_type": "stream",
     "text": [
      "Dados de entrada:\n",
      " 0         {\"tribunal justiça estado bahia poder judiciár...\n",
      "1         {\"excelentíssimo senhor doutor juiz direito ju...\n",
      "2         {\"razões recurso inominado recorrente atlantic...\n",
      "3         {\"empresa recorrente tornou credora dos débito...\n",
      "4         {\"entretanto verdade parte apelante tornou tit...\n",
      "                                ...                        \n",
      "149212    {\"supremo tribunal federal recurso extraordiná...\n",
      "149213    {\"seção recursos extraordinários mandado intim...\n",
      "149214    {\"ttar qsvòwi a edewrr seção recursos extraord...\n",
      "149215    {\"ertidao certifico dou que dirigi setor autar...\n",
      "149216    {\"supremo tribunal federal secretaria judiciár...\n",
      "Name: body, Length: 149217, dtype: object\n"
     ]
    }
   ],
   "source": [
    "print(\"Dados de entrada:\\n\",text)"
   ]
  },
  {
   "cell_type": "code",
   "execution_count": 8,
   "metadata": {},
   "outputs": [],
   "source": [
    "lista = []\n",
    "for item in text:\n",
    "    lista.append(transform_amendments(item))"
   ]
  },
  {
   "cell_type": "code",
   "execution_count": 10,
   "metadata": {},
   "outputs": [
    {
     "name": "stdout",
     "output_type": "stream",
     "text": [
      "Dados de saida: \n",
      " {\"sendo assim não conformado com r sentença fls recorrida interpôs recurso inominado qual foi conhecido seu provimento negado pela egrégia turma recursal extensão estado bahia não restando alternativas recorrente senão interposição presente recurso extraordinário repercussão geral LEI_11418 patente existência repercussão geral questão ora ventilada ensejando interposição recurso extraordinário isso porque diariamente são ajuizadas incontáveis ações danos morais quais atualmente abarrotam poder judiciário que vê sucumbir lentidão causada pelo excesso demandas infundadas desnecessárias surpreendentemente despeito clareza texto legal evidenciando que recorrente nada poderia fazer mas cumprir contrato assumido com empresa cessionária com cada vez mais freqüência eles vêm sendo condenados ressarcir por supostos danos violando disposições inciso do ARTIGO_5º constituição federal ensejando manifestação definitiva deste colendo pretório excelso sobre questão pacificando admissibilidade presente recurso cuida de recurso extraordinário fundado ARTIGO_102 inciso iii alínea da constituição federal face r acórdão prolatado pela egrégia turma recursal extensão estado bahia que negou provimento recurso inominado interposto pelo recorrente acabou por violar direta frontalmente princípio proporcionalidade dos ARTIGO_5º xxxv da constituição federal presente recurso extraordinário preenche requisitos elementares sua admissibilidade com efeito decisão que motivou presente definitiva unânime última instância negou vigência dispositivo constitucional r acórdão recorrido inegavelmente violou direta frontalmente dispositivos acima mencionados getúlio vargas vila guedes azevedo bauru cep fone fax bauru campinas ribeirão preto brasília salvador belo horizonte curitiba recife são luís palmas porto alegre porto velho fortaleza rio janeiro\"}\n"
     ]
    }
   ],
   "source": [
    "print(\"Dados de saida: \\n\", lista[31])"
   ]
  }
 ],
 "metadata": {
  "kernelspec": {
   "display_name": "Python 3.9.12 ('base')",
   "language": "python",
   "name": "python3"
  },
  "language_info": {
   "codemirror_mode": {
    "name": "ipython",
    "version": 3
   },
   "file_extension": ".py",
   "mimetype": "text/x-python",
   "name": "python",
   "nbconvert_exporter": "python",
   "pygments_lexer": "ipython3",
   "version": "3.9.12"
  },
  "orig_nbformat": 4,
  "vscode": {
   "interpreter": {
    "hash": "9ea11ec022152b3214da35e79683b54ff6a5551ba5a809758f36786a7842cf45"
   }
  }
 },
 "nbformat": 4,
 "nbformat_minor": 2
}

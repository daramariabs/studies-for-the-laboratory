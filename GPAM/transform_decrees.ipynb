{
 "cells": [
  {
   "cell_type": "markdown",
   "metadata": {},
   "source": [
    "# Transform_decrees\n",
    "\n",
    "A partir da função _transform_legislations o texto será retornado com os tokens de decretos criados.\n",
    "\n",
    "Essa função padroniza os decretos encontrados no texto, de forma que:\n",
    "\n",
    "- Vide decreto-Lei nº 6.231 seja substituida por Vide ST_DECRETO_6231\n",
    "- Decretos-federais n12,3 seja substituida por ST_DECRETO_123\n"
   ]
  },
  {
   "cell_type": "code",
   "execution_count": 1,
   "metadata": {},
   "outputs": [],
   "source": [
    "import re\n",
    "\n",
    "ST_PREFIX = \"ST_\"\n",
    "\n",
    "def _transform_legislations(\n",
    "    text,\n",
    "    prefix_result,\n",
    "    re_legislation,\n",
    "    is_multiple=False,\n",
    "    identification=None,\n",
    "    previous_token=None,\n",
    "    separator=None,\n",
    "):\n",
    "    \"Create custom tokens for legislation\"\n",
    "\n",
    "    def build_token(m):\n",
    "        if m.group(\"ignored_expression\"):\n",
    "            result = m.group(\"ignored_expression\")\n",
    "        else:\n",
    "            result = \"\"\n",
    "        result = (\n",
    "            result\n",
    "            + ST_PREFIX\n",
    "            + prefix_result\n",
    "            + m.group(\"identification\")\n",
    "            .replace('\"', \"\")\n",
    "            .replace(\"“\", \"\")\n",
    "            .replace(\"”\", \"\")\n",
    "            .replace(\".\", \"\")\n",
    "            .replace(\",\", \"\")\n",
    "            .replace(\"º\", \"\")\n",
    "            .lstrip(\"0\")\n",
    "            .upper()\n",
    "        )\n",
    "        return result\n",
    "\n",
    "    def build_token_multi(m):\n",
    "        result = (\n",
    "            m.group(\"ignored_expression\")\n",
    "            + ST_PREFIX\n",
    "            + prefix_result\n",
    "            + m.group(\"identification\")\n",
    "            .replace('\"', \"\")\n",
    "            .replace(\"“\", \"\")\n",
    "            .replace(\"”\", \"\")\n",
    "            .replace(\".\", \"\")\n",
    "            .replace(\",\", \"\")\n",
    "            .replace(\"º\", \"\")\n",
    "            .lstrip(\"0\")\n",
    "            .upper()\n",
    "        )\n",
    "        return result\n",
    "\n",
    "    # replaces first occurrences\n",
    "    text = re_legislation.sub(build_token, text)\n",
    "\n",
    "    # replaces multiple occurrences, if exists\n",
    "    if is_multiple:\n",
    "        regex_legislation_multi = re.compile(\n",
    "            fr\"(?:(?P<ignored_expression>{previous_token}{separator}){identification})\",\n",
    "            flags=re.I,\n",
    "        )\n",
    "        while regex_legislation_multi.findall(text) != []:\n",
    "            text = regex_legislation_multi.sub(build_token_multi, text)\n",
    "\n",
    "    return text\n"
   ]
  },
  {
   "cell_type": "code",
   "execution_count": 2,
   "metadata": {},
   "outputs": [],
   "source": [
    "def transform_decrees(text, **kwargs):\n",
    "    #Create custom tokens for decrees appearances in a text\n",
    "\n",
    "    decree_types = (\n",
    "        \"leis?\",\n",
    "        \"regulamentador(?:es)?\",\n",
    "        \"presidencia(?:l|is)\",\n",
    "        \"federa(?:l|is)\",\n",
    "        \"estadua(?:l|is)\",\n",
    "        \"executivos?\",\n",
    "        \"leis? complementar(?:es)?\",\n",
    "        \"municipa(?:l|is)\",\n",
    "        \"legislativos?\",\n",
    "        \"legislativos? estadua(?:l|is)\",\n",
    "        \"legislativos? municipa(?:l|is)\",\n",
    "    )\n",
    "    decree_types = \"|\".join(decree_types)\n",
    "\n",
    "    word_number = r\"(?:n[oº]?\\.?|n\\.?º|n[úu]mero)\"\n",
    "    number = r\"(?:\\d+(?:[\\.,]\\d+)*)\"\n",
    "    year = fr\"(?:[/-]{number})?\"\n",
    "    prefix_result = \"DECRETO_\"\n",
    "    previous_token = fr\"{ST_PREFIX}{prefix_result}{number}\" #ST_DECRETO_\n",
    "    separator = r\"\\s*[,e]\\s+\"\n",
    "    decree = fr\"(?P<identification>{number}){year}\"\n",
    "    re_legislation = re.compile(\n",
    "        fr\"(?P<ignored_expression>)(decretos?([\\s-]+({decree_types}))?)\\s+(?:{word_number}\\s*)?{decree}\",\n",
    "        flags=re.I,\n",
    "    )\n",
    "\n",
    "    return _transform_legislations(\n",
    "        text,\n",
    "        prefix_result,\n",
    "        re_legislation,\n",
    "        True,\n",
    "        decree,\n",
    "        previous_token,\n",
    "        separator,\n",
    "    )\n"
   ]
  },
  {
   "cell_type": "code",
   "execution_count": 7,
   "metadata": {},
   "outputs": [
    {
     "name": "stdout",
     "output_type": "stream",
     "text": [
      "Entrada:  \n",
      "  Vide Decreto-Lei nº 5.452, de 02 de Outubro de 1955\n",
      "  Vide decreto-Lei nº 6.231\n",
      "  art. 15 do Decreto-Lei no 2.848\n",
      "  Artigo 4 do Decreto Lei nº 2.848 de 07 de Dezembro de 1940\n",
      "\n",
      "\n"
     ]
    }
   ],
   "source": [
    "entradas = \"\"\"\n",
    "  Vide Decreto-Lei nº 5.452, de 02 de Outubro de 1955\n",
    "  Vide decreto-Lei nº 6.231\n",
    "  art. 15 do Decreto-Lei no 2.848\n",
    "  Artigo 4 do Decreto Lei nº 2.848 de 07 de Dezembro de 1940\n",
    "\n",
    "\"\"\"\n",
    "\n",
    "print(\"Entrada: \", entradas)"
   ]
  },
  {
   "cell_type": "code",
   "execution_count": 8,
   "metadata": {},
   "outputs": [
    {
     "name": "stdout",
     "output_type": "stream",
     "text": [
      "Saida:  \n",
      "  Vide ST_DECRETO_5452, de 02 de Outubro de 1955\n",
      "  Vide ST_DECRETO_6231\n",
      "  art. 15 do ST_DECRETO_2848\n",
      "  Artigo 4 do ST_DECRETO_2848 de 07 de Dezembro de 1940\n",
      "\n",
      "\n"
     ]
    }
   ],
   "source": [
    "print(\"Saida: \",transform_decrees(entradas))"
   ]
  },
  {
   "cell_type": "markdown",
   "metadata": {},
   "source": [
    "# DATASET VICTOR"
   ]
  },
  {
   "cell_type": "code",
   "execution_count": 3,
   "metadata": {},
   "outputs": [],
   "source": [
    "import pandas as pd\n",
    "\n",
    "test = pd.read_csv('./data/train_small.csv')\n",
    "text = test['body']"
   ]
  },
  {
   "cell_type": "code",
   "execution_count": 4,
   "metadata": {},
   "outputs": [
    {
     "name": "stdout",
     "output_type": "stream",
     "text": [
      "Dados de entrada:\n",
      " 0         {\"tribunal justiça estado bahia poder judiciár...\n",
      "1         {\"excelentíssimo senhor doutor juiz direito ju...\n",
      "2         {\"razões recurso inominado recorrente atlantic...\n",
      "3         {\"empresa recorrente tornou credora dos débito...\n",
      "4         {\"entretanto verdade parte apelante tornou tit...\n",
      "                                ...                        \n",
      "149212    {\"supremo tribunal federal recurso extraordiná...\n",
      "149213    {\"seção recursos extraordinários mandado intim...\n",
      "149214    {\"ttar qsvòwi a edewrr seção recursos extraord...\n",
      "149215    {\"ertidao certifico dou que dirigi setor autar...\n",
      "149216    {\"supremo tribunal federal secretaria judiciár...\n",
      "Name: body, Length: 149217, dtype: object\n"
     ]
    }
   ],
   "source": [
    "print(\"Dados de entrada:\\n\",text)"
   ]
  },
  {
   "cell_type": "code",
   "execution_count": 5,
   "metadata": {},
   "outputs": [],
   "source": [
    "lista = []\n",
    "for item in text:\n",
    "    lista.append(transform_decrees(item))"
   ]
  },
  {
   "cell_type": "code",
   "execution_count": 6,
   "metadata": {},
   "outputs": [
    {
     "name": "stdout",
     "output_type": "stream",
     "text": [
      "Dados de saida: \n",
      " {\"favorecido nem seja insignificante pela circunstância experimentada grifos nossos assim o ressarcimento pelo dano moral uma forma compensar mal causado não pode ser fonte enriquecimento de abusos devendo sua importância ser moderada que não foi atentado pelo juízo quo convém citar advertência desembargador tribunal justiça rio grande sul décio antonio erpen dano moral a desagregação social boletim coad adv informativo semanal pág propósito excesso pleito pode gerar esta situação a conseqüente reação pelas dimensões que assumir censura judicial objetivo reparação pecuniária não punir ofensor mas deferir uma sensação agradável vítima nunca uma fonte riqueza nem ato vindita grifos nossos melhor doutrina unânime afirmar que indenização por danos morais deve revestir de caráter eminentemente compensatório que jamais poderá servir fonte enriquecimento para lesado conforme ensinamento eminente professor humberto theodoro júnior sua obra dano moral nisso razão ordem ética que todavia deve ser acolhida com adequação moderação campo responsabilidade civil que genericamente direito privado não direito público como com direito penal este não direito privado compete reprimir condutas que ordem geral tornam nocivas interesse coletivo urge pois respeitar a esfera atuação cada segmento direito positivo sob pena sujeitar o indivíduo sofrer sanções repetidas cumuladas por uma única infração dos princípios fundamentais repressão pública aos delitos justamente que repele bis idem isto imposição duas condenações processos diferentes pela mesma conduta ilícita daí que caráter repressivo indenização por dano moral deve ser levado conta pelo juiz cum grano salis ele deve recorrer apenas título critério secundário subsidiário nunca como dado principal determinante cálculo arbitramento sob pena getúlio vargas vila guedes azevedo bauru cep fone fax são paulo campinas ribeirão preto brasília salvador belo horizonte porto alegre\"}\n"
     ]
    }
   ],
   "source": [
    "print(\"Dados de saida: \\n\", lista[12])"
   ]
  }
 ],
 "metadata": {
  "kernelspec": {
   "display_name": "Python 3.9.12 ('base')",
   "language": "python",
   "name": "python3"
  },
  "language_info": {
   "codemirror_mode": {
    "name": "ipython",
    "version": 3
   },
   "file_extension": ".py",
   "mimetype": "text/x-python",
   "name": "python",
   "nbconvert_exporter": "python",
   "pygments_lexer": "ipython3",
   "version": "3.9.12"
  },
  "orig_nbformat": 4,
  "vscode": {
   "interpreter": {
    "hash": "9ea11ec022152b3214da35e79683b54ff6a5551ba5a809758f36786a7842cf45"
   }
  }
 },
 "nbformat": 4,
 "nbformat_minor": 2
}

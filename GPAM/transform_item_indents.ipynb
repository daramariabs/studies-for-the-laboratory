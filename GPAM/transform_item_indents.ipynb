{
 "cells": [
  {
   "cell_type": "markdown",
   "metadata": {},
   "source": [
    "# transform_item_indents\n",
    "\n",
    "A partir da função _transform_legislations o texto será retornado com os tokens de recuo criados.\n",
    "\n",
    "Essa função padroniza as chamadas de alineas, identificando-as implicitamente caso sejam chamados após um inciso, de forma que:\n",
    "\n",
    "- ST_INCISO_V, a seja substituído por ST_INCISO_V, ST_ALINEA_A\n"
   ]
  },
  {
   "cell_type": "code",
   "execution_count": 2,
   "metadata": {},
   "outputs": [],
   "source": [
    "import re\n",
    "\n",
    "ST_PREFIX = \"ST_\"\n",
    "\n",
    "def _transform_legislations(\n",
    "    text,\n",
    "    prefix_result,\n",
    "    re_legislation,\n",
    "    is_multiple=False,\n",
    "    identification=None,\n",
    "    previous_token=None,\n",
    "    separator=None,\n",
    "):\n",
    "    \"Create custom tokens for legislation\"\n",
    "\n",
    "    def build_token(m):\n",
    "        if m.group(\"ignored_expression\"):\n",
    "            result = m.group(\"ignored_expression\")\n",
    "        else:\n",
    "            result = \"\"\n",
    "        result = (\n",
    "            result\n",
    "            + ST_PREFIX\n",
    "            + prefix_result\n",
    "            + m.group(\"identification\")\n",
    "            .replace('\"', \"\")\n",
    "            .replace(\"“\", \"\")\n",
    "            .replace(\"”\", \"\")\n",
    "            .replace(\".\", \"\")\n",
    "            .replace(\",\", \"\")\n",
    "            .replace(\"º\", \"\")\n",
    "            .lstrip(\"0\")\n",
    "            .upper()\n",
    "        )\n",
    "        return result\n",
    "\n",
    "    def build_token_multi(m):\n",
    "        result = (\n",
    "            m.group(\"ignored_expression\")\n",
    "            + ST_PREFIX\n",
    "            + prefix_result\n",
    "            + m.group(\"identification\")\n",
    "            .replace('\"', \"\")\n",
    "            .replace(\"“\", \"\")\n",
    "            .replace(\"”\", \"\")\n",
    "            .replace(\".\", \"\")\n",
    "            .replace(\",\", \"\")\n",
    "            .replace(\"º\", \"\")\n",
    "            .lstrip(\"0\")\n",
    "            .upper()\n",
    "        )\n",
    "        return result\n",
    "\n",
    "    # replaces first occurrences\n",
    "    text = re_legislation.sub(build_token, text)\n",
    "\n",
    "    # replaces multiple occurrences, if exists\n",
    "    if is_multiple:\n",
    "        regex_legislation_multi = re.compile(\n",
    "            fr\"(?:(?P<ignored_expression>{previous_token}{separator}){identification})\",\n",
    "            flags=re.I,\n",
    "        )\n",
    "        while regex_legislation_multi.findall(text) != []:\n",
    "            text = regex_legislation_multi.sub(build_token_multi, text)\n",
    "\n",
    "    return text\n"
   ]
  },
  {
   "cell_type": "code",
   "execution_count": 3,
   "metadata": {},
   "outputs": [],
   "source": [
    "def transform_item_indents(text, **kwargs):\n",
    "    #Create custom tokens for indents contained in a item and not explicitly mentioned in the text\n",
    "\n",
    "    prefix_result = \"ALINEA_\"\n",
    "    previous_token = fr\"{ST_PREFIX}{prefix_result}\\w+\"\n",
    "    separator = r\"\\s*[,e]\\s+\"\n",
    "    indent = (\n",
    "        r\"(?<!\\w)[\\\"|\\“|\\”]?(?P<identification>[a|b]?[a-z])[\\\"|\\“|\\”]?(?!\\w)\"\n",
    "    )\n",
    "    re_legislation = re.compile(\n",
    "        fr\"(?:(?P<ignored_expression>{ST_PREFIX}INCISO_[MDCLXVI]+,\\s+){indent})\",\n",
    "        flags=re.I,\n",
    "    )\n",
    "\n",
    "    return _transform_legislations(\n",
    "        text,\n",
    "        prefix_result,\n",
    "        re_legislation,\n",
    "        True,\n",
    "        indent,\n",
    "        previous_token,\n",
    "        separator,\n",
    "    )\n"
   ]
  },
  {
   "cell_type": "code",
   "execution_count": 4,
   "metadata": {},
   "outputs": [
    {
     "name": "stdout",
     "output_type": "stream",
     "text": [
      "Entradas:  \n",
      "  ST_INCISO_V, a, b, c, d e e\n",
      "  ST_INCISO_x, “a”, \"b\", \"c\"\n",
      "  art. 102, ST_PARAGRAFO_2, ST_INCISO_IV, “a” da Constituição Federal\n",
      "\n"
     ]
    }
   ],
   "source": [
    "entradas = \"\"\"\n",
    "  ST_INCISO_V, a, b, c, d e e\n",
    "  ST_INCISO_x, “a”, \"b\", \"c\"\n",
    "  art. 102, ST_PARAGRAFO_2, ST_INCISO_IV, “a” da Constituição Federal\n",
    "\"\"\"\n",
    "\n",
    "print(\"Entradas: \",entradas)"
   ]
  },
  {
   "cell_type": "code",
   "execution_count": 5,
   "metadata": {},
   "outputs": [
    {
     "name": "stdout",
     "output_type": "stream",
     "text": [
      "Saida:  \n",
      "  ST_INCISO_V, ST_ALINEA_A, ST_ALINEA_B, ST_ALINEA_C, ST_ALINEA_D e ST_ALINEA_E\n",
      "  ST_INCISO_x, ST_ALINEA_A, ST_ALINEA_B, ST_ALINEA_C\n",
      "  art. 102, ST_PARAGRAFO_2, ST_INCISO_IV, ST_ALINEA_A da Constituição Federal\n",
      "\n"
     ]
    }
   ],
   "source": [
    "print(\"Saida: \",transform_item_indents(entradas))"
   ]
  },
  {
   "cell_type": "markdown",
   "metadata": {},
   "source": [
    "# DATASET VICTOR"
   ]
  },
  {
   "cell_type": "code",
   "execution_count": 6,
   "metadata": {},
   "outputs": [],
   "source": [
    "import pandas as pd\n",
    "\n",
    "test = pd.read_csv('./data/train_small.csv')\n",
    "text = test['body']"
   ]
  },
  {
   "cell_type": "code",
   "execution_count": 7,
   "metadata": {},
   "outputs": [
    {
     "name": "stdout",
     "output_type": "stream",
     "text": [
      "Dados de entrada:\n",
      " 0         {\"tribunal justiça estado bahia poder judiciár...\n",
      "1         {\"excelentíssimo senhor doutor juiz direito ju...\n",
      "2         {\"razões recurso inominado recorrente atlantic...\n",
      "3         {\"empresa recorrente tornou credora dos débito...\n",
      "4         {\"entretanto verdade parte apelante tornou tit...\n",
      "                                ...                        \n",
      "149212    {\"supremo tribunal federal recurso extraordiná...\n",
      "149213    {\"seção recursos extraordinários mandado intim...\n",
      "149214    {\"ttar qsvòwi a edewrr seção recursos extraord...\n",
      "149215    {\"ertidao certifico dou que dirigi setor autar...\n",
      "149216    {\"supremo tribunal federal secretaria judiciár...\n",
      "Name: body, Length: 149217, dtype: object\n"
     ]
    }
   ],
   "source": [
    "print(\"Dados de entrada:\\n\",text)"
   ]
  },
  {
   "cell_type": "code",
   "execution_count": 14,
   "metadata": {},
   "outputs": [],
   "source": [
    "lista = []\n",
    "for item in text:\n",
    "    lista.append(transform_item_indents(item))\n",
    "        "
   ]
  },
  {
   "cell_type": "code",
   "execution_count": 16,
   "metadata": {},
   "outputs": [
    {
     "name": "stdout",
     "output_type": "stream",
     "text": [
      "Dados de saida: \n",
      " {\"quais aplica regime LEI_10887 segundo qual proventos aposentadoria serão calculados com base média aritmética simples das maiores remunerações utilizadas como base para contribuições servidor aos regimes previdência que esteve vinculado correspondentes oitenta por cento todo período contributivo desde competência julho desde do início contribuição posterior àquela competência ARTIGO_1º caput para estes últimos portanto gdpst será considerada integralmente para fins cálculo aposentadoria da pensão medida que integra remuneração utilizada como base para cobrança contribuição previdenciária ora nobres ministros caso dos autos verifica claramente pelos documentos acostados que servidor recorrido enquadra previsão ARTIGO_5º inciso alínea razão pela qual somente possível incidência contribuição previdenciária sobre cinqüenta por cento valor máximo respectivo nível classe padrão tendo vista que somente tal percentual será incorporado aos proventos aposentadoria pensão desta maneira esta colenda corte constitucional deve manter hígida decisão turma recursal rio grande sul devendo ser desprovido presente recurso extraordinário\"}\n"
     ]
    }
   ],
   "source": [
    "print(\"Dados de saida: \\n\", lista[561])"
   ]
  }
 ],
 "metadata": {
  "kernelspec": {
   "display_name": "Python 3.9.12 ('base')",
   "language": "python",
   "name": "python3"
  },
  "language_info": {
   "codemirror_mode": {
    "name": "ipython",
    "version": 3
   },
   "file_extension": ".py",
   "mimetype": "text/x-python",
   "name": "python",
   "nbconvert_exporter": "python",
   "pygments_lexer": "ipython3",
   "version": "3.9.12"
  },
  "orig_nbformat": 4,
  "vscode": {
   "interpreter": {
    "hash": "9ea11ec022152b3214da35e79683b54ff6a5551ba5a809758f36786a7842cf45"
   }
  }
 },
 "nbformat": 4,
 "nbformat_minor": 2
}

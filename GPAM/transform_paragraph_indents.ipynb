{
 "cells": [
  {
   "cell_type": "markdown",
   "metadata": {},
   "source": [
    "# Transform_paragraph_indents\n",
    "\n",
    "A partir da função _transform_legislations o texto será retornado com os tokens de recuo criados.\n",
    "\n",
    "Essa função padroniza as chamadas de alineas, identificando-as implicitamente caso sejam chamados após um parágrafo, de forma que:\n",
    "\n",
    "- ST_PARAGRAFO_UNICO, \"a\" seja substituído por ST_PARAGRAFO_UNICO, ST_ALINEA_A"
   ]
  },
  {
   "cell_type": "code",
   "execution_count": 5,
   "metadata": {},
   "outputs": [],
   "source": [
    "import re\n",
    "ST_PREFIX = \"ST_\"\n",
    "\n",
    "def _transform_legislations(\n",
    "    text,\n",
    "    prefix_result,\n",
    "    re_legislation,\n",
    "    is_multiple=False,\n",
    "    identification=None,\n",
    "    previous_token=None,\n",
    "    separator=None,\n",
    "):\n",
    "    \"Create custom tokens for legislation\"\n",
    "\n",
    "    def build_token(m):\n",
    "        if m.group(\"ignored_expression\"):\n",
    "            result = m.group(\"ignored_expression\")\n",
    "        else:\n",
    "            result = \"\"\n",
    "        result = (\n",
    "            result\n",
    "            + ST_PREFIX\n",
    "            + prefix_result\n",
    "            + m.group(\"identification\")\n",
    "            .replace('\"', \"\")\n",
    "            .replace(\"“\", \"\")\n",
    "            .replace(\"”\", \"\")\n",
    "            .replace(\".\", \"\")\n",
    "            .replace(\",\", \"\")\n",
    "            .replace(\"º\", \"\")\n",
    "            .lstrip(\"0\")\n",
    "            .upper()\n",
    "        )\n",
    "        return result\n",
    "\n",
    "    def build_token_multi(m):\n",
    "        result = (\n",
    "            m.group(\"ignored_expression\")\n",
    "            + ST_PREFIX\n",
    "            + prefix_result\n",
    "            + m.group(\"identification\")\n",
    "            .replace('\"', \"\")\n",
    "            .replace(\"“\", \"\")\n",
    "            .replace(\"”\", \"\")\n",
    "            .replace(\".\", \"\")\n",
    "            .replace(\",\", \"\")\n",
    "            .replace(\"º\", \"\")\n",
    "            .lstrip(\"0\")\n",
    "            .upper()\n",
    "        )\n",
    "        return result\n",
    "\n",
    "    # replaces first occurrences\n",
    "    text = re_legislation.sub(build_token, text)\n",
    "\n",
    "    # replaces multiple occurrences, if exists\n",
    "    if is_multiple:\n",
    "        regex_legislation_multi = re.compile(\n",
    "            fr\"(?:(?P<ignored_expression>{previous_token}{separator}){identification})\",\n",
    "            flags=re.I,\n",
    "        )\n",
    "        while regex_legislation_multi.findall(text) != []:\n",
    "            text = regex_legislation_multi.sub(build_token_multi, text)\n",
    "\n",
    "    return text\n"
   ]
  },
  {
   "cell_type": "code",
   "execution_count": 2,
   "metadata": {},
   "outputs": [],
   "source": [
    "def transform_paragraph_indents(text, **kwargs):\n",
    "    #Create custom tokens for indents contained in a paragraph and not explicitly mentioned in the text\n",
    "\n",
    "    prefix_result = \"ALINEA_\"\n",
    "    previous_token = fr\"{ST_PREFIX}{prefix_result}\\w+\"\n",
    "    separator = r\"\\s*[,e]\\s+\"\n",
    "    indent = (\n",
    "        r\"(?<!\\w)[\\\"|\\“|\\”]?(?P<identification>[a|b]?[a-z])[\\\"|\\“|\\”]?(?!\\w)\"\n",
    "    )\n",
    "    re_legislation = re.compile(\n",
    "        fr\"(?:(?P<ignored_expression>{ST_PREFIX}PARAGRAFO_(\\d+|UNICO),\\s+){indent})\",\n",
    "        flags=re.I,\n",
    "    )\n",
    "\n",
    "    return _transform_legislations(\n",
    "        text,\n",
    "        prefix_result,\n",
    "        re_legislation,\n",
    "        True,\n",
    "        indent,\n",
    "        previous_token,\n",
    "        separator,\n",
    "    )\n"
   ]
  },
  {
   "cell_type": "code",
   "execution_count": 3,
   "metadata": {},
   "outputs": [
    {
     "name": "stdout",
     "output_type": "stream",
     "text": [
      "Entrada:  \n",
      "  ST_PARAGRAFO_UNICO, \"a\"\n",
      "  ST_PARAGRAFO_UNICO, \"a\", \"b\"\n",
      "  ST_PARAGRAFO_3, a, b, c e e, do art. 102\n",
      "  art. 102, ST_PARAGRAFO_2, “a” da Constituição Federal\n",
      "\n"
     ]
    }
   ],
   "source": [
    "entradas = \"\"\"\n",
    "  ST_PARAGRAFO_UNICO, \"a\"\n",
    "  ST_PARAGRAFO_UNICO, \"a\", \"b\"\n",
    "  ST_PARAGRAFO_3, a, b, c e e, do art. 102\n",
    "  art. 102, ST_PARAGRAFO_2, “a” da Constituição Federal\n",
    "\"\"\"\n",
    "\n",
    "print(\"Entrada: \", entradas)"
   ]
  },
  {
   "cell_type": "code",
   "execution_count": 6,
   "metadata": {},
   "outputs": [
    {
     "name": "stdout",
     "output_type": "stream",
     "text": [
      "Saida:  \n",
      "  ST_PARAGRAFO_UNICO, ST_ALINEA_A\n",
      "  ST_PARAGRAFO_UNICO, ST_ALINEA_A, ST_ALINEA_B\n",
      "  ST_PARAGRAFO_3, ST_ALINEA_A, ST_ALINEA_B, ST_ALINEA_C e ST_ALINEA_E, do art. 102\n",
      "  art. 102, ST_PARAGRAFO_2, ST_ALINEA_A da Constituição Federal\n",
      "\n"
     ]
    }
   ],
   "source": [
    "print(\"Saida: \",transform_paragraph_indents(entradas))"
   ]
  },
  {
   "cell_type": "markdown",
   "metadata": {},
   "source": [
    "# DATASET VICTOR"
   ]
  },
  {
   "cell_type": "code",
   "execution_count": 7,
   "metadata": {},
   "outputs": [],
   "source": [
    "import pandas as pd\n",
    "\n",
    "test = pd.read_csv('./data/train_small.csv')\n",
    "text = test['body']"
   ]
  },
  {
   "cell_type": "code",
   "execution_count": 8,
   "metadata": {},
   "outputs": [
    {
     "name": "stdout",
     "output_type": "stream",
     "text": [
      "Dados de entrada:\n",
      " 0         {\"tribunal justiça estado bahia poder judiciár...\n",
      "1         {\"excelentíssimo senhor doutor juiz direito ju...\n",
      "2         {\"razões recurso inominado recorrente atlantic...\n",
      "3         {\"empresa recorrente tornou credora dos débito...\n",
      "4         {\"entretanto verdade parte apelante tornou tit...\n",
      "                                ...                        \n",
      "149212    {\"supremo tribunal federal recurso extraordiná...\n",
      "149213    {\"seção recursos extraordinários mandado intim...\n",
      "149214    {\"ttar qsvòwi a edewrr seção recursos extraord...\n",
      "149215    {\"ertidao certifico dou que dirigi setor autar...\n",
      "149216    {\"supremo tribunal federal secretaria judiciár...\n",
      "Name: body, Length: 149217, dtype: object\n"
     ]
    }
   ],
   "source": [
    "print(\"Dados de entrada:\\n\",text)"
   ]
  },
  {
   "cell_type": "code",
   "execution_count": 9,
   "metadata": {},
   "outputs": [],
   "source": [
    "lista = []\n",
    "for item in text:\n",
    "    lista.append(transform_paragraph_indents(item))"
   ]
  },
  {
   "cell_type": "code",
   "execution_count": 10,
   "metadata": {},
   "outputs": [
    {
     "name": "stdout",
     "output_type": "stream",
     "text": [
      "Dados de saida: \n",
      " {\"superior tribunal justiça abono assiduidade licença prêmio não gozadas função necessidade serviço quais constituem verbas indenizatórias conforme está pacificado seio desta corte superior súmulas nºs juntada das declarações ajuste para fins verificação eventual compensação não estabelece fato constitutivo direito autor contrário perfazem fato extintivo seu direito cuja comprovação única exclusivamente parte fazenda nacional ocorrendo incidência fonte retenção indevida adicional imposto renda não necessidade se comprovar que responsável tributário recolheu respectiva importância aos cofres públicos não pode afastar pretensão restituição via precatório visto que contribuinte poderá escolher forma mais conveniente para pleitear execução decisão condenatória est por meio compensação restituição via precatório embargos acolhidos com parcial provimento recurso especial edcl resp relator ministro josé delgado de agravo regimental agravo instrumento tributário imposto renda férias indenizadas não incidência súmulas stj fato o agravado receber férias pecúnia razão rescisão contrato trabalho não descaracteriza natureza indenização desse pagamento motivação recebimento dinheiro das férias quer pela necessidade serviço quer pela conveniência das partes não altera natureza jurídica verba paga esses títulos uma vez convertidas dinheiro ainda que por opção empregado tal conversão induvidosamente constitui em parcela indenizatória mesmo porque conversão é deferida isso interessar empresa agravo regimental improvido segunda turma agrg ag relator ministro franciulli netto de por fim que diz respeito verbas sucumbenciais recurso não merece trânsito visto que havendo tribunal origem utilizado critérios eqüidade como referência para arbitramento dos honorários advocatícios não cabe revisão quantum dessa verba honorária âmbito instância especial face óbice contido súmula do stj confiram respeito julgados seguir processual civil verba honorária execução fiscal arbitramento com fulcro juízo eqüidade do ARTIGO_20 cpc incidência súmula stj reexame fixação dos honorários advocatícios arbitrados por eqüidade com base do ARTIGO_20 cpc importa revolvimento contexto fático probatório atraindo portanto incidência súmula desta corte precedentes desta corte colacionados pela agravante majorando verba honorária não guardam similitude com situação dos autos agravo regimental improvido agrg resp segunda turma relatora ministra eliana calmon de processual civil agravo instrumento ARTIGO_554 cpc recurso especial que pretende revisão documento relatório ementa voto site certificado página de\"}\n"
     ]
    }
   ],
   "source": [
    "print(\"Dados de saida: \\n\", lista[55])"
   ]
  }
 ],
 "metadata": {
  "kernelspec": {
   "display_name": "Python 3.9.12 ('base')",
   "language": "python",
   "name": "python3"
  },
  "language_info": {
   "codemirror_mode": {
    "name": "ipython",
    "version": 3
   },
   "file_extension": ".py",
   "mimetype": "text/x-python",
   "name": "python",
   "nbconvert_exporter": "python",
   "pygments_lexer": "ipython3",
   "version": "3.9.12"
  },
  "orig_nbformat": 4,
  "vscode": {
   "interpreter": {
    "hash": "9ea11ec022152b3214da35e79683b54ff6a5551ba5a809758f36786a7842cf45"
   }
  }
 },
 "nbformat": 4,
 "nbformat_minor": 2
}

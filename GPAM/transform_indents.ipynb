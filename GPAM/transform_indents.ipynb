{
 "cells": [
  {
   "cell_type": "markdown",
   "metadata": {},
   "source": [
    "# Transform_indents\n",
    "\n",
    "A partir da função _transform_legislations o texto será retornado com os tokens de recuo criados.\n",
    "\n",
    "Essa função padroniza as chamadas de alíneas, de forma que:\n",
    "- alinea A seja substituído por ST_ALINEA_A\n",
    "\n",
    "\n"
   ]
  },
  {
   "cell_type": "code",
   "execution_count": 1,
   "metadata": {},
   "outputs": [],
   "source": [
    "import re\n",
    "\n",
    "ST_PREFIX = \"ST_\"\n",
    "\n",
    "def _transform_legislations(\n",
    "    text,\n",
    "    prefix_result,\n",
    "    re_legislation,\n",
    "    is_multiple=False,\n",
    "    identification=None,\n",
    "    previous_token=None,\n",
    "    separator=None,\n",
    "):\n",
    "    \"Create custom tokens for legislation\"\n",
    "\n",
    "    def build_token(m):\n",
    "        if m.group(\"ignored_expression\"):\n",
    "            result = m.group(\"ignored_expression\")\n",
    "        else:\n",
    "            result = \"\"\n",
    "        result = (\n",
    "            result\n",
    "            + ST_PREFIX\n",
    "            + prefix_result\n",
    "            + m.group(\"identification\")\n",
    "            .replace('\"', \"\")\n",
    "            .replace(\"“\", \"\")\n",
    "            .replace(\"”\", \"\")\n",
    "            .replace(\".\", \"\")\n",
    "            .replace(\",\", \"\")\n",
    "            .replace(\"º\", \"\")\n",
    "            .lstrip(\"0\")\n",
    "            .upper()\n",
    "        )\n",
    "        return result\n",
    "\n",
    "    def build_token_multi(m):\n",
    "        result = (\n",
    "            m.group(\"ignored_expression\")\n",
    "            + ST_PREFIX\n",
    "            + prefix_result\n",
    "            + m.group(\"identification\")\n",
    "            .replace('\"', \"\")\n",
    "            .replace(\"“\", \"\")\n",
    "            .replace(\"”\", \"\")\n",
    "            .replace(\".\", \"\")\n",
    "            .replace(\",\", \"\")\n",
    "            .replace(\"º\", \"\")\n",
    "            .lstrip(\"0\")\n",
    "            .upper()\n",
    "        )\n",
    "        return result\n",
    "\n",
    "    # replaces first occurrences\n",
    "    text = re_legislation.sub(build_token, text)\n",
    "\n",
    "    # replaces multiple occurrences, if exists\n",
    "    if is_multiple:\n",
    "        regex_legislation_multi = re.compile(\n",
    "            fr\"(?:(?P<ignored_expression>{previous_token}{separator}){identification})\",\n",
    "            flags=re.I,\n",
    "        )\n",
    "        while regex_legislation_multi.findall(text) != []:\n",
    "            text = regex_legislation_multi.sub(build_token_multi, text)\n",
    "\n",
    "    return text\n"
   ]
  },
  {
   "cell_type": "code",
   "execution_count": 2,
   "metadata": {},
   "outputs": [],
   "source": [
    "def transform_indents(text, **kwargs):\n",
    "    #Create custom tokens for indents\n",
    "\n",
    "    prefix_result = \"ALINEA_\"\n",
    "    previous_token = fr\"{ST_PREFIX}{prefix_result}\\w+\" #ST_ALINEA_\n",
    "    separator = r\"\\s*[,e]\\s+\"\n",
    "    indent = (\n",
    "        r\"(?<!\\w)[\\\"|\\“|\\”]?(?P<identification>[a|b]?[a-z])[\\\"|\\“|\\”]?(?!\\w)\"\n",
    "    )\n",
    "    re_legislation = re.compile(\n",
    "        fr\"(?P<ignored_expression>)(?:al[í|i]neas?\\s+{indent})\", flags=re.I\n",
    "    )\n",
    "\n",
    "    return _transform_legislations(\n",
    "        text,\n",
    "        prefix_result,\n",
    "        re_legislation,\n",
    "        True,\n",
    "        indent,\n",
    "        previous_token,\n",
    "        separator,\n",
    "    )"
   ]
  },
  {
   "cell_type": "code",
   "execution_count": 3,
   "metadata": {},
   "outputs": [
    {
     "name": "stdout",
     "output_type": "stream",
     "text": [
      "Entradas:  \n",
      "    fundamento nas alíneas “a”, “ac” e \"bc\", do inciso III, do art. 102\n",
      "    art. 102, inciso III, alinea “a” da Constituição Federal\n",
      "\n"
     ]
    }
   ],
   "source": [
    "entradas = \"\"\"\n",
    "    fundamento nas alíneas “a”, “ac” e \"bc\", do inciso III, do art. 102\n",
    "    art. 102, inciso III, alinea “a” da Constituição Federal\n",
    "\"\"\"\n",
    "\n",
    "print(\"Entradas: \", entradas)"
   ]
  },
  {
   "cell_type": "code",
   "execution_count": 4,
   "metadata": {},
   "outputs": [
    {
     "name": "stdout",
     "output_type": "stream",
     "text": [
      "Saida:  \n",
      "    fundamento nas ST_ALINEA_A, ST_ALINEA_AC e ST_ALINEA_BC, do inciso III, do art. 102\n",
      "    art. 102, inciso III, ST_ALINEA_A da Constituição Federal\n",
      "\n"
     ]
    }
   ],
   "source": [
    "print(\"Saida: \",transform_indents(entradas))"
   ]
  },
  {
   "cell_type": "markdown",
   "metadata": {},
   "source": [
    "# DATASET VICTOR"
   ]
  },
  {
   "cell_type": "code",
   "execution_count": 5,
   "metadata": {},
   "outputs": [],
   "source": [
    "import pandas as pd\n",
    "\n",
    "test = pd.read_csv('./data/train_small.csv')\n",
    "text = test['body']"
   ]
  },
  {
   "cell_type": "code",
   "execution_count": 6,
   "metadata": {},
   "outputs": [
    {
     "name": "stdout",
     "output_type": "stream",
     "text": [
      "Dados de entrada:\n",
      " 0         {\"tribunal justiça estado bahia poder judiciár...\n",
      "1         {\"excelentíssimo senhor doutor juiz direito ju...\n",
      "2         {\"razões recurso inominado recorrente atlantic...\n",
      "3         {\"empresa recorrente tornou credora dos débito...\n",
      "4         {\"entretanto verdade parte apelante tornou tit...\n",
      "                                ...                        \n",
      "149212    {\"supremo tribunal federal recurso extraordiná...\n",
      "149213    {\"seção recursos extraordinários mandado intim...\n",
      "149214    {\"ttar qsvòwi a edewrr seção recursos extraord...\n",
      "149215    {\"ertidao certifico dou que dirigi setor autar...\n",
      "149216    {\"supremo tribunal federal secretaria judiciár...\n",
      "Name: body, Length: 149217, dtype: object\n"
     ]
    }
   ],
   "source": [
    "print(\"Dados de entrada:\\n\",text)"
   ]
  },
  {
   "cell_type": "code",
   "execution_count": 13,
   "metadata": {},
   "outputs": [],
   "source": [
    "lista = []\n",
    "for item in text:\n",
    "    if \"alíneas\" in item:\n",
    "        lista.append(transform_indents(item))"
   ]
  },
  {
   "cell_type": "code",
   "execution_count": 15,
   "metadata": {},
   "outputs": [
    {
     "name": "stdout",
     "output_type": "stream",
     "text": [
      "Saida: \n",
      " {\"advocacia geral união procuradoria geral fazenda nacional procuradoria fazenda nacional alagoas mesmo sentido ARTIGO_29 caput LEI_8213 ARTIGO_29 salário benefício consiste para benefícios que tratam ST_ALINEA_E do inciso do ARTIGO_18 média aritmética simples dos maiores salários contribuição correspondentes oitenta por cento todo período contributivo multiplicada pelo fator previdenciário incluído pela LEI_9876 para benefícios que tratam ST_ALINEA_H inciso do ARTIGO_18 média aritmética simples dos maiores salários decontribuição correspondentes oitenta por cento todo período contributivo incluído pela LEI_9876 serão considerados para cálculo salário benefício ganhos habituais segurado empregado qualquer título sob forma moeda corrente utilidades sobre quais tenha incidido contribuições previdenciárias exceto décimo terceiro salário gratificação natalina redação dada pela LEI_8870 espécie própria lei que instituiu gacen estendeu aos futuros benefícios previdenciários dos contribuintes assim finalização dos descontos implicará natural diminuição dos futuros proventos aposentadorias consoante estabelece do ARTIGO_55 LEI_11784 ARTIGO_55 gacen a gacen serão devidas aos titulares dos empregos cargos públicos que tratam ARTIGO_53 desta lei que caráter permanente realizarem atividades combate controle endemias área urbana rural inclusive terras indígenas de remanescentes quilo mbolas áreas extrativistas ribeirinhas para fins incorporação gacen aos proventos aposentadoria pensões dos servidores que ela fazem jus serão adotados seguintes critérios redação dada pela LEI_12702 para aposentadorias pensões instituídas até de fevereiro gacen será partir março correspondente quarenta por cento seu valor partir janeiro correspondente cinqüenta por cento seu valor para arrematar deve também ser levado conta princípio legalidade tributária observe excelência que matéria debate guarda similaridade com outro tipo causa qual seja incidência pss sobre gdata a gdpst matéria que vem sendo decidida pela turma recursal alagoas nos seguintes termos\"}\n"
     ]
    }
   ],
   "source": [
    "print(\"Saida: \\n\", lista[6])"
   ]
  }
 ],
 "metadata": {
  "kernelspec": {
   "display_name": "Python 3 (ipykernel)",
   "language": "python",
   "name": "python3"
  },
  "language_info": {
   "codemirror_mode": {
    "name": "ipython",
    "version": 3
   },
   "file_extension": ".py",
   "mimetype": "text/x-python",
   "name": "python",
   "nbconvert_exporter": "python",
   "pygments_lexer": "ipython3",
   "version": "3.9.12"
  },
  "vscode": {
   "interpreter": {
    "hash": "9ea11ec022152b3214da35e79683b54ff6a5551ba5a809758f36786a7842cf45"
   }
  }
 },
 "nbformat": 4,
 "nbformat_minor": 2
}

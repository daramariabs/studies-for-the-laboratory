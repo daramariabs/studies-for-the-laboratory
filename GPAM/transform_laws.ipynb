{
 "cells": [
  {
   "cell_type": "markdown",
   "metadata": {},
   "source": [
    "# Transform_laws\n",
    "\n",
    "A partir da função _transform_legislations o texto será retornado com os tokens de recuo criados.\n",
    "\n",
    "Essa função padroniza a chamada de leis, de forma que:\n",
    "\n",
    "- Lei nº 99.999.999 seja substituída por ST_LEI_99999999\n",
    "- Lei 6.015/1973 seja substituída por ST_LEI_6015"
   ]
  },
  {
   "cell_type": "code",
   "execution_count": 1,
   "metadata": {},
   "outputs": [],
   "source": [
    "import re\n",
    "\n",
    "ST_PREFIX = \"ST_\"\n",
    "\n",
    "def _transform_legislations(\n",
    "    text,\n",
    "    prefix_result,\n",
    "    re_legislation,\n",
    "    is_multiple=False,\n",
    "    identification=None,\n",
    "    previous_token=None,\n",
    "    separator=None,\n",
    "):\n",
    "    \"Create custom tokens for legislation\"\n",
    "\n",
    "    def build_token(m):\n",
    "        if m.group(\"ignored_expression\"):\n",
    "            result = m.group(\"ignored_expression\")\n",
    "        else:\n",
    "            result = \"\"\n",
    "        result = (\n",
    "            result\n",
    "            + ST_PREFIX\n",
    "            + prefix_result\n",
    "            + m.group(\"identification\")\n",
    "            .replace('\"', \"\")\n",
    "            .replace(\"“\", \"\")\n",
    "            .replace(\"”\", \"\")\n",
    "            .replace(\".\", \"\")\n",
    "            .replace(\",\", \"\")\n",
    "            .replace(\"º\", \"\")\n",
    "            .lstrip(\"0\")\n",
    "            .upper()\n",
    "        )\n",
    "        return result\n",
    "\n",
    "    def build_token_multi(m):\n",
    "        result = (\n",
    "            m.group(\"ignored_expression\")\n",
    "            + ST_PREFIX\n",
    "            + prefix_result\n",
    "            + m.group(\"identification\")\n",
    "            .replace('\"', \"\")\n",
    "            .replace(\"“\", \"\")\n",
    "            .replace(\"”\", \"\")\n",
    "            .replace(\".\", \"\")\n",
    "            .replace(\",\", \"\")\n",
    "            .replace(\"º\", \"\")\n",
    "            .lstrip(\"0\")\n",
    "            .upper()\n",
    "        )\n",
    "        return result\n",
    "\n",
    "    # replaces first occurrences\n",
    "    text = re_legislation.sub(build_token, text)\n",
    "\n",
    "    # replaces multiple occurrences, if exists\n",
    "    if is_multiple:\n",
    "        regex_legislation_multi = re.compile(\n",
    "            fr\"(?:(?P<ignored_expression>{previous_token}{separator}){identification})\",\n",
    "            flags=re.I,\n",
    "        )\n",
    "        while regex_legislation_multi.findall(text) != []:\n",
    "            text = regex_legislation_multi.sub(build_token_multi, text)\n",
    "\n",
    "    return text\n"
   ]
  },
  {
   "cell_type": "code",
   "execution_count": 2,
   "metadata": {},
   "outputs": [],
   "source": [
    "def transform_laws(text, **kwargs):\n",
    "    #Create custom tokens for laws\n",
    "\n",
    "    law_types = (\n",
    "        \"complementar(?:es)?\",\n",
    "        \"federa(?:l|is)\",\n",
    "        \"estadua(?:l|is)\",\n",
    "        \"municipa(?:l|is)\",\n",
    "    )\n",
    "    law_types = \"|\".join(law_types)\n",
    "\n",
    "    word_number = r\"(?:n[oº]?\\.?|n\\.?º|n[úu]mero)\"\n",
    "    number = r\"(?:\\d+(?:[\\.,]\\d+)*)\"\n",
    "    year = fr\"(?:[/-]{number})?\"\n",
    "    prefix_result = \"LEI_\"\n",
    "    previous_token = fr\"{ST_PREFIX}{prefix_result}{number}\"\n",
    "    separator = r\"\\s*[,e]\\s+\"\n",
    "    law = fr\"(?P<identification>{number}){year}\"\n",
    "    re_legislation = re.compile(\n",
    "        fr\"(?P<ignored_expression>)(?<!\\w)(leis?|l\\.)(\\s+({law_types}))?\\s+(?:{word_number}\\s*)?{law}\",\n",
    "        flags=re.I,\n",
    "    )\n",
    "\n",
    "    return _transform_legislations(\n",
    "        text,\n",
    "        prefix_result,\n",
    "        re_legislation,\n",
    "        True,\n",
    "        law,\n",
    "        previous_token,\n",
    "        separator,\n",
    "    )\n"
   ]
  },
  {
   "cell_type": "code",
   "execution_count": 3,
   "metadata": {},
   "outputs": [
    {
     "name": "stdout",
     "output_type": "stream",
     "text": [
      "Entrada:  \n",
      "  Lei 4.504/64\n",
      "  Lei nº 99.999.999/2100\n",
      "  Lei nº 7.844, de 1989\n",
      "  Informação - Lei nº 5.250-1967\n",
      "  Lei Complementar nº 70/91\n",
      "  Lei Complementar nº 070/91\n",
      "  Lei Municipal 67478\n",
      "  Lei Federal 67478\n",
      "  Lei Estadual 67478\n",
      "  Lei Complementar 67478\n",
      "  Lei Antiterrorismo - Lei 13.260\n",
      "  Lei de Segurança Nacional\n",
      "  Lei 3.4 tribunal justiça  estado bahia poder judiciário salvador juizado cível defesa\n",
      "\n"
     ]
    }
   ],
   "source": [
    "entradas = \"\"\"\n",
    "  Lei 4.504/64\n",
    "  Lei nº 99.999.999/2100\n",
    "  Lei nº 7.844, de 1989\n",
    "  Informação - Lei nº 5.250-1967\n",
    "  Lei Complementar nº 70/91\n",
    "  Lei Complementar nº 070/91\n",
    "  Lei Municipal 67478\n",
    "  Lei Federal 67478\n",
    "  Lei Estadual 67478\n",
    "  Lei Complementar 67478\n",
    "  Lei Antiterrorismo - Lei 13.260\n",
    "  Lei de Segurança Nacional\n",
    "  Lei 3.4 tribunal justiça  estado bahia poder judiciário salvador juizado cível defesa\n",
    "\"\"\"\n",
    "\n",
    "print(\"Entrada: \", entradas)"
   ]
  },
  {
   "cell_type": "code",
   "execution_count": 4,
   "metadata": {},
   "outputs": [
    {
     "name": "stdout",
     "output_type": "stream",
     "text": [
      "Saida:  \n",
      "  ST_LEI_4504\n",
      "  ST_LEI_99999999\n",
      "  ST_LEI_7844, de 1989\n",
      "  Informação - ST_LEI_5250\n",
      "  ST_LEI_70\n",
      "  ST_LEI_70\n",
      "  ST_LEI_67478\n",
      "  ST_LEI_67478\n",
      "  ST_LEI_67478\n",
      "  ST_LEI_67478\n",
      "  Lei Antiterrorismo - ST_LEI_13260\n",
      "  Lei de Segurança Nacional\n",
      "  ST_LEI_34 tribunal justiça  estado bahia poder judiciário salvador juizado cível defesa\n",
      "\n"
     ]
    }
   ],
   "source": [
    "print(\"Saida: \",transform_laws(entradas))"
   ]
  },
  {
   "cell_type": "markdown",
   "metadata": {},
   "source": [
    "# DATASETA VICTOR"
   ]
  },
  {
   "cell_type": "code",
   "execution_count": 5,
   "metadata": {},
   "outputs": [],
   "source": [
    "import pandas as pd\n",
    "\n",
    "test = pd.read_csv('./data/train_small.csv')\n",
    "text = test['body']"
   ]
  },
  {
   "cell_type": "code",
   "execution_count": 6,
   "metadata": {},
   "outputs": [
    {
     "name": "stdout",
     "output_type": "stream",
     "text": [
      "Dados de entrada:\n",
      " 0         {\"tribunal justiça estado bahia poder judiciár...\n",
      "1         {\"excelentíssimo senhor doutor juiz direito ju...\n",
      "2         {\"razões recurso inominado recorrente atlantic...\n",
      "3         {\"empresa recorrente tornou credora dos débito...\n",
      "4         {\"entretanto verdade parte apelante tornou tit...\n",
      "                                ...                        \n",
      "149212    {\"supremo tribunal federal recurso extraordiná...\n",
      "149213    {\"seção recursos extraordinários mandado intim...\n",
      "149214    {\"ttar qsvòwi a edewrr seção recursos extraord...\n",
      "149215    {\"ertidao certifico dou que dirigi setor autar...\n",
      "149216    {\"supremo tribunal federal secretaria judiciár...\n",
      "Name: body, Length: 149217, dtype: object\n"
     ]
    }
   ],
   "source": [
    "print(\"Dados de entrada:\\n\",text)"
   ]
  },
  {
   "cell_type": "code",
   "execution_count": 7,
   "metadata": {},
   "outputs": [],
   "source": [
    "lista = []\n",
    "for item in text:\n",
    "    lista.append(transform_laws(item))\n",
    "        "
   ]
  },
  {
   "cell_type": "code",
   "execution_count": 8,
   "metadata": {},
   "outputs": [
    {
     "name": "stdout",
     "output_type": "stream",
     "text": [
      "Dados de saida: \n",
      " {\"ministério fazenda procuradoria geral fazenda nacional procuradoria seccional fazenda nacional campina grande permissivo constitucional esgotamento todas instâncias recursais ordinárias demonstração relevância matéria ainda mais foi demonstrada existência jurisprudência sentido diverso daquele adotado decisão guerreada admissibilidade deste recurso quanto matéria fundo contribução social sobre terço férias teor ARTIGO_102 inciso iii alínea carta magna cabe recurso extraordinário contra decisão judicial proferida única última instância que contrariar seus dispositivos espécie registre que decisão que ora recorre de última instância eis que não interposição deste apelo extremo nesta oportunidade ensejaria sua preclusão prequestionamento por fim dispositivos constitucionais aqui suscitados quais sejam ARTIGO_3 inc foram objeto devido prequestionamento que acórdão recorrido fez referência recente decisão primeira seção superior tribunal justiça nos autos incidente uniformização jurisprudência das turmas recursais agrg petição qual tratou expressamente matéria constitucional ora analisada com efeito parâmetros referida contribuição estão fixados ARTIGO_4º LEI_10887 bem assim princípio solidariedade\"}\n"
     ]
    }
   ],
   "source": [
    "print(\"Dados de saida: \\n\", lista[100])"
   ]
  }
 ],
 "metadata": {
  "kernelspec": {
   "display_name": "Python 3.9.12 ('base')",
   "language": "python",
   "name": "python3"
  },
  "language_info": {
   "codemirror_mode": {
    "name": "ipython",
    "version": 3
   },
   "file_extension": ".py",
   "mimetype": "text/x-python",
   "name": "python",
   "nbconvert_exporter": "python",
   "pygments_lexer": "ipython3",
   "version": "3.9.12"
  },
  "orig_nbformat": 4,
  "vscode": {
   "interpreter": {
    "hash": "9ea11ec022152b3214da35e79683b54ff6a5551ba5a809758f36786a7842cf45"
   }
  }
 },
 "nbformat": 4,
 "nbformat_minor": 2
}
